{
 "cells": [
  {
   "cell_type": "code",
   "execution_count": 12,
   "id": "b76f1f35-c770-475e-a408-61df7a252593",
   "metadata": {},
   "outputs": [
    {
     "name": "stdout",
     "output_type": "stream",
     "text": [
      "1.14.2\n"
     ]
    }
   ],
   "source": [
    "import os\n",
    "import datetime as dt\n",
    "import pandas as pd\n",
    "import numpy as np\n",
    "from dotenv import load_dotenv\n",
    "load_dotenv()\n",
    "\n",
    "import openai\n",
    "print(openai.__version__)\n",
    "\n",
    "from langchain import PromptTemplate\n",
    "from langchain_openai import ChatOpenAI"
   ]
  },
  {
   "cell_type": "code",
   "execution_count": 2,
   "id": "696db14a-3056-4b43-b0b7-d5b27c4d3145",
   "metadata": {},
   "outputs": [
    {
     "data": {
      "text/plain": [
       "'카메라를 홍보하기 위한 좋은 문구를 추천해줘?'"
      ]
     },
     "execution_count": 2,
     "metadata": {},
     "output_type": "execute_result"
    }
   ],
   "source": [
    "template = \"{product}를 홍보하기 위한 좋은 문구를 추천해줘?\"\n",
    "\n",
    "prompt = PromptTemplate(input_variables=[\"product\"], template=template)\n",
    "prompt.format(product=\"카메라\")"
   ]
  },
  {
   "cell_type": "code",
   "execution_count": 17,
   "id": "9ea7f681-326c-4a99-9e8f-6a1790e35bcb",
   "metadata": {},
   "outputs": [
    {
     "name": "stdout",
     "output_type": "stream",
     "text": [
      "content='강아지입니다.' response_metadata={'token_usage': {'completion_tokens': 6, 'prompt_tokens': 40, 'total_tokens': 46}, 'model_name': 'gpt-3.5-turbo', 'system_fingerprint': 'fp_3bc1b5746c', 'finish_reason': 'stop', 'logprobs': None}\n"
     ]
    }
   ],
   "source": [
    "llm1 = ChatOpenAI(model_name=\"gpt-3.5-turbo\")\n",
    "prompt_str = \"진회는 강아지를 키우고 있습니다. 진희가 키우고 있는 동물은?\"\n",
    "completion = llm1.invoke(prompt_str)\n",
    "print(completion)"
   ]
  },
  {
   "cell_type": "code",
   "execution_count": 18,
   "id": "eea04a0b-f3c4-4609-a2f6-c156c46aedad",
   "metadata": {},
   "outputs": [
    {
     "name": "stdout",
     "output_type": "stream",
     "text": [
      "Then you will be able to sleep. Are you feeling hungry?\n"
     ]
    }
   ],
   "source": [
    "from langchain import HuggingFaceHub\n",
    "llm2 = HuggingFaceHub(repo_id=\"google/flan-t5-xxl\", model_kwargs={\"temperature\":0.8, \"max_length\": 512})\n",
    "completion = llm2(prompt_str)\n",
    "print(completion)"
   ]
  },
  {
   "cell_type": "code",
   "execution_count": 20,
   "id": "c5ae283f-7027-4ceb-9ae5-cabcb0c8d2a6",
   "metadata": {},
   "outputs": [
    {
     "name": "stdout",
     "output_type": "stream",
     "text": [
      "\u001b[1mInput:\u001b[0m\n",
      "진회는 강아지를 키우고 있습니다. 진희가 키우고 있는 동물은?\n",
      "\n",
      "client=<openai.resources.chat.completions.Completions object at 0x16cc7bd70> async_client=<openai.resources.chat.completions.AsyncCompletions object at 0x16cc88650> openai_api_key=SecretStr('**********') openai_proxy=''\n"
     ]
    },
    {
     "name": "stderr",
     "output_type": "stream",
     "text": [
      "/Users/jayden/git/sj/langchain_exercise/.venv/lib/python3.12/site-packages/pydantic/v1/main.py:996: RuntimeWarning: fields may not start with an underscore, ignoring \"_input\"\n",
      "  warnings.warn(f'fields may not start with an underscore, ignoring \"{f_name}\"', RuntimeWarning)\n"
     ]
    },
    {
     "name": "stdout",
     "output_type": "stream",
     "text": [
      "\u001b[36;1m\u001b[1;3m강아지입니다.\u001b[0m\n",
      "\n",
      "\u001b[1mHuggingFaceHub\u001b[0m\n",
      "Params: {'repo_id': 'google/flan-t5-xxl', 'task': 'text2text-generation', 'model_kwargs': {'temperature': 0.8, 'max_length': 512}}\n",
      "\u001b[33;1m\u001b[1;3mThen you will be able to sleep. Are you feeling hungry?\u001b[0m\n",
      "\n"
     ]
    }
   ],
   "source": [
    "from langchain.model_laboratory import ModelLaboratory\n",
    "model_lab = ModelLaboratory.from_llms([llm1, llm2])\n",
    "model_lab.compare(prompt_str)"
   ]
  },
  {
   "cell_type": "code",
   "execution_count": 30,
   "id": "c8350376-40fa-47ed-8672-bfbcd6583781",
   "metadata": {},
   "outputs": [
    {
     "name": "stdout",
     "output_type": "stream",
     "text": [
      "content='두산 베어스, 롯데 자이언츠, KIA 타이거즈, 삼성 라이온즈, LG 트윈스, 키움 히어로즈, NC 다이노스' response_metadata={'token_usage': {'completion_tokens': 67, 'prompt_tokens': 49, 'total_tokens': 116}, 'model_name': 'gpt-3.5-turbo', 'system_fingerprint': 'fp_3bc1b5746c', 'finish_reason': 'stop', 'logprobs': None}\n",
      "['두산 베어스', '롯데 자이언츠', 'KIA 타이거즈', '삼성 라이온즈', 'LG 트윈스', '키움 히어로즈', 'NC 다이노스']\n"
     ]
    }
   ],
   "source": [
    "from langchain.output_parsers import CommaSeparatedListOutputParser\n",
    "from langchain.prompts import PromptTemplate\n",
    "from langchain_openai import ChatOpenAI\n",
    "llm = ChatOpenAI(model_name='gpt-3.5-turbo', temperature=0.0)\n",
    "\n",
    "output_parser = CommaSeparatedListOutputParser()\n",
    "format_instructions = output_parser.get_format_instructions()\n",
    "\n",
    "prompt = PromptTemplate(\n",
    "    template=\"7개의 팀을 보여줘 {subject}.\\n{format_instructions}\",\n",
    "    input_variables=[\"subject\"],\n",
    "    partial_variables={\"format_instructions\": format_instructions}\n",
    ")\n",
    "\n",
    "query = \"한국으 야구팀은?\"\n",
    "\n",
    "output = llm.invoke(prompt.format(subject=query))\n",
    "print(output)\n",
    "\n",
    "parsed_result = output_parser.parse(output.content)\n",
    "print(parsed_result)"
   ]
  },
  {
   "cell_type": "code",
   "execution_count": null,
   "id": "f0877001-9ff9-4e4b-b13c-9aaac537fc47",
   "metadata": {},
   "outputs": [],
   "source": []
  }
 ],
 "metadata": {
  "kernelspec": {
   "display_name": "Python 3 (ipykernel)",
   "language": "python",
   "name": "python3"
  },
  "language_info": {
   "codemirror_mode": {
    "name": "ipython",
    "version": 3
   },
   "file_extension": ".py",
   "mimetype": "text/x-python",
   "name": "python",
   "nbconvert_exporter": "python",
   "pygments_lexer": "ipython3",
   "version": "3.12.0"
  }
 },
 "nbformat": 4,
 "nbformat_minor": 5
}
